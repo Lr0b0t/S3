{
 "cells": [
  {
   "cell_type": "code",
   "execution_count": 1,
   "metadata": {},
   "outputs": [],
   "source": [
    "import wandb\n",
    "import pandas as pd\n",
    "import matplotlib.pyplot as plt"
   ]
  },
  {
   "cell_type": "code",
   "execution_count": 33,
   "metadata": {},
   "outputs": [],
   "source": [
    "\n",
    "# Initialize wandb API\n",
    "api = wandb.Api()\n",
    "\n",
    "# Replace 'your_sweep_id' with your actual sweep ID\n",
    "\n",
    "\n",
    "task = 'SSC'\n",
    "# sweep_ids = ['22j8955i']\n",
    "sweep_ids = ['wauv85y4', 'gfwkoa2e', 'i81h7lqv', '7befnpfs']\n",
    "# Fetch the sweep object\n",
    "\n",
    "\n",
    "sweep_params = ['lr', 'pdrop', 'scheduler_patience', 'scheduler_factor', 'dt_max']"
   ]
  },
  {
   "cell_type": "code",
   "execution_count": 34,
   "metadata": {},
   "outputs": [],
   "source": [
    "# Initialize an empty DataFrame to hold the relevant data\n",
    "data = []\n",
    "\n",
    "for sweep_id in sweep_ids:\n",
    "    sweep_id = 'maximes_crew/S3_'+task+'_runs/' + sweep_id\n",
    "    sweep = api.sweep(sweep_id)\n",
    "\n",
    "    # Fetch all runs in the sweep\n",
    "    runs = sweep.runs\n",
    "    # Extract the necessary data from each run\n",
    "    for run in runs:\n",
    "        config = run.config\n",
    "        summary = run.summary\n",
    "        history = run.history()\n",
    "        n_layers = config.get('nb_layers')\n",
    "        n_hiddens = config.get('nb_hiddens')\n",
    "        lr = config.get('lr')\n",
    "        dt_min = config.get('dt_min')\n",
    "        dt_max = config.get('dt_max')\n",
    "        pdrop = config.get('pdrop')\n",
    "        sched_patience = config.get('scheduler_patience')\n",
    "        sched_factor = config.get('scheduler_factor')\n",
    "        if 'valid acc' in history.columns and 'test acc' in history.columns:\n",
    "            best_valid_acc_idx = history['valid acc'].idxmax()  # Get the index of the best valid accuracy\n",
    "            if (best_valid_acc_idx+1) in history['test acc'].index:\n",
    "                test_acc = history['test acc'].loc[best_valid_acc_idx+1]  # Get test acc at that index\n",
    "            else:\n",
    "                test_acc = None\n",
    "        else:\n",
    "            test_acc = None\n",
    "\n",
    "        if test_acc is not None:\n",
    "            data.append({\n",
    "                'n_layers': n_layers,\n",
    "                'n_hiddens': n_hiddens,\n",
    "                'lr': lr,\n",
    "                'dt_min': dt_min,\n",
    "                'dt_max': dt_max,\n",
    "                'pdrop' : pdrop,\n",
    "                'scheduler_patience' : sched_patience,\n",
    "                'scheduler_factor' : sched_factor,\n",
    "                'test_acc': test_acc\n",
    "            })\n",
    "\n"
   ]
  },
  {
   "cell_type": "code",
   "execution_count": 35,
   "metadata": {},
   "outputs": [
    {
     "data": {
      "text/plain": [
       "{'n_layers': 3,\n",
       " 'n_hiddens': 512,\n",
       " 'lr': 0.01,\n",
       " 'dt_min': 0.01,\n",
       " 'dt_max': 25.2,\n",
       " 'pdrop': 0.55,\n",
       " 'scheduler_patience': 10,\n",
       " 'scheduler_factor': 0.7,\n",
       " 'test_acc': 0.8156608484968355}"
      ]
     },
     "execution_count": 35,
     "metadata": {},
     "output_type": "execute_result"
    }
   ],
   "source": [
    "data[0]"
   ]
  },
  {
   "cell_type": "code",
   "execution_count": 36,
   "metadata": {},
   "outputs": [],
   "source": [
    "# Convert the data to a DataFrame for easier manipulation\n",
    "df = pd.DataFrame(data)\n",
    "\n",
    "# Group by n_layers and lr, then compute the mean of best_valid_acc for each group\n",
    "df_grouped = df.groupby(sweep_params).agg({'test_acc': 'mean'}).reset_index()\n",
    "\n",
    "# Calculate the number of runs for each line configuration\n",
    "df['run_count'] = df.groupby(sweep_params).transform('size')\n",
    "\n",
    "# Add the run count to the grouped dataframe\n",
    "df_grouped['run_count'] = df_grouped[sweep_params].apply(lambda x: df[(df[sweep_params] == x).all(axis=1)]['run_count'].iloc[0], axis=1)\n",
    "\n",
    "df_grouped_sorted = df_grouped.sort_values(by='test_acc', ascending=False).reset_index(drop=True)"
   ]
  },
  {
   "cell_type": "code",
   "execution_count": 37,
   "metadata": {},
   "outputs": [
    {
     "data": {
      "text/html": [
       "<div>\n",
       "<style scoped>\n",
       "    .dataframe tbody tr th:only-of-type {\n",
       "        vertical-align: middle;\n",
       "    }\n",
       "\n",
       "    .dataframe tbody tr th {\n",
       "        vertical-align: top;\n",
       "    }\n",
       "\n",
       "    .dataframe thead th {\n",
       "        text-align: right;\n",
       "    }\n",
       "</style>\n",
       "<table border=\"1\" class=\"dataframe\">\n",
       "  <thead>\n",
       "    <tr style=\"text-align: right;\">\n",
       "      <th></th>\n",
       "      <th>lr</th>\n",
       "      <th>pdrop</th>\n",
       "      <th>scheduler_patience</th>\n",
       "      <th>scheduler_factor</th>\n",
       "      <th>dt_max</th>\n",
       "      <th>test_acc</th>\n",
       "      <th>run_count</th>\n",
       "    </tr>\n",
       "  </thead>\n",
       "  <tbody>\n",
       "    <tr>\n",
       "      <th>0</th>\n",
       "      <td>0.010</td>\n",
       "      <td>0.45</td>\n",
       "      <td>10</td>\n",
       "      <td>0.7</td>\n",
       "      <td>5.4</td>\n",
       "      <td>0.814030</td>\n",
       "      <td>12</td>\n",
       "    </tr>\n",
       "    <tr>\n",
       "      <th>1</th>\n",
       "      <td>0.010</td>\n",
       "      <td>0.45</td>\n",
       "      <td>10</td>\n",
       "      <td>0.7</td>\n",
       "      <td>30.0</td>\n",
       "      <td>0.813621</td>\n",
       "      <td>12</td>\n",
       "    </tr>\n",
       "    <tr>\n",
       "      <th>2</th>\n",
       "      <td>0.008</td>\n",
       "      <td>0.55</td>\n",
       "      <td>10</td>\n",
       "      <td>0.7</td>\n",
       "      <td>29.0</td>\n",
       "      <td>0.812853</td>\n",
       "      <td>12</td>\n",
       "    </tr>\n",
       "    <tr>\n",
       "      <th>3</th>\n",
       "      <td>0.010</td>\n",
       "      <td>0.55</td>\n",
       "      <td>10</td>\n",
       "      <td>0.7</td>\n",
       "      <td>25.2</td>\n",
       "      <td>0.811167</td>\n",
       "      <td>12</td>\n",
       "    </tr>\n",
       "  </tbody>\n",
       "</table>\n",
       "</div>"
      ],
      "text/plain": [
       "      lr  pdrop  scheduler_patience  scheduler_factor  dt_max  test_acc  \\\n",
       "0  0.010   0.45                  10               0.7     5.4  0.814030   \n",
       "1  0.010   0.45                  10               0.7    30.0  0.813621   \n",
       "2  0.008   0.55                  10               0.7    29.0  0.812853   \n",
       "3  0.010   0.55                  10               0.7    25.2  0.811167   \n",
       "\n",
       "   run_count  \n",
       "0         12  \n",
       "1         12  \n",
       "2         12  \n",
       "3         12  "
      ]
     },
     "execution_count": 37,
     "metadata": {},
     "output_type": "execute_result"
    }
   ],
   "source": [
    "df_grouped_sorted[0:10]"
   ]
  },
  {
   "cell_type": "code",
   "execution_count": null,
   "metadata": {},
   "outputs": [],
   "source": []
  },
  {
   "cell_type": "code",
   "execution_count": null,
   "metadata": {},
   "outputs": [],
   "source": []
  },
  {
   "cell_type": "code",
   "execution_count": null,
   "metadata": {},
   "outputs": [],
   "source": []
  }
 ],
 "metadata": {
  "kernelspec": {
   "display_name": "sparse_mamba",
   "language": "python",
   "name": "python3"
  },
  "language_info": {
   "codemirror_mode": {
    "name": "ipython",
    "version": 3
   },
   "file_extension": ".py",
   "mimetype": "text/x-python",
   "name": "python",
   "nbconvert_exporter": "python",
   "pygments_lexer": "ipython3",
   "version": "3.9.18"
  }
 },
 "nbformat": 4,
 "nbformat_minor": 2
}
